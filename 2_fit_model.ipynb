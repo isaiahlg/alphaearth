{
 "cells": [
  {
   "cell_type": "markdown",
   "id": "576d7724",
   "metadata": {},
   "source": [
    "# Predict Sustain Bench Indicators with Alpha Earth Embeddings\n",
    "Now that we extracted the embeddings from the same year and locations as the poverty data, it's time to fit a model to see how well the embeddings predict poverty."
   ]
  },
  {
   "cell_type": "code",
   "execution_count": null,
   "id": "9a010895",
   "metadata": {},
   "outputs": [],
   "source": [
    "import pandas as pd\n",
    "import torchgeo as tg"
   ]
  }
 ],
 "metadata": {
  "kernelspec": {
   "display_name": "tg",
   "language": "python",
   "name": "python3"
  },
  "language_info": {
   "codemirror_mode": {
    "name": "ipython",
    "version": 3
   },
   "file_extension": ".py",
   "mimetype": "text/x-python",
   "name": "python",
   "nbconvert_exporter": "python",
   "pygments_lexer": "ipython3",
   "version": "3.11.10"
  }
 },
 "nbformat": 4,
 "nbformat_minor": 5
}
